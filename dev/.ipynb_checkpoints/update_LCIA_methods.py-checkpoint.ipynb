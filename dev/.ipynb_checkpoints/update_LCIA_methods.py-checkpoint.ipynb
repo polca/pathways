{
 "cells": [
  {
   "metadata": {},
   "cell_type": "code",
   "outputs": [],
   "execution_count": null,
   "source": "import bw2data",
   "id": "9ae8b087498c4535"
  },
  {
   "metadata": {},
   "cell_type": "code",
   "outputs": [],
   "execution_count": null,
   "source": "bw2data.projects.set_current(\"bw25\")",
   "id": "6259ac0847e9be2e"
  },
  {
   "metadata": {},
   "cell_type": "code",
   "outputs": [],
   "execution_count": null,
   "source": "import bw2io",
   "id": "a831decf2cfc1cb0"
  },
  {
   "metadata": {},
   "cell_type": "code",
   "outputs": [],
   "execution_count": null,
   "source": "bw2io.import_ecoinvent_release(\"3.11\", \"cutoff\")",
   "id": "dc18a652ff995011"
  },
  {
   "metadata": {},
   "cell_type": "code",
   "outputs": [],
   "execution_count": null,
   "source": "bw2data.methods",
   "id": "a609431fd9b1622c"
  },
  {
   "metadata": {},
   "cell_type": "code",
   "outputs": [],
   "execution_count": null,
   "source": "data = []",
   "id": "dff8c8dcccf8767a"
  },
  {
   "metadata": {},
   "cell_type": "code",
   "outputs": [],
   "execution_count": null,
   "source": [
    "for m in bw2data.methods:\n",
    "    sub = {}\n",
    "    sub[\"name\"] = list(m)\n",
    "\n",
    "    method = bw2data.Method(m)\n",
    "    sub[\"unit\"] = method.metadata[\"unit\"]\n",
    "\n",
    "    flows = []\n",
    "    for flow, cf in method.load():\n",
    "        print(flow)\n",
    "\n",
    "    sub[\"exchanges\"] = flows\n",
    "    data.append(sub)"
   ],
   "id": "fe43c89d627ca8a6"
  },
  {
   "metadata": {},
   "cell_type": "code",
   "outputs": [],
   "execution_count": null,
   "source": "method.load()",
   "id": "a1f4b088fc44025"
  },
  {
   "metadata": {},
   "cell_type": "code",
   "outputs": [],
   "execution_count": null,
   "source": "",
   "id": "3bf79ba11e5c61fd"
  }
 ],
 "metadata": {},
 "nbformat": 4,
 "nbformat_minor": 5
}
