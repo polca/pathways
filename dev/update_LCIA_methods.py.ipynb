{
 "cells": [
  {
   "cell_type": "code",
   "execution_count": 1,
   "id": "initial_id",
   "metadata": {
    "ExecuteTime": {
     "end_time": "2025-08-18T14:44:38.353336Z",
     "start_time": "2025-08-18T14:44:36.116444Z"
    }
   },
   "outputs": [],
   "source": [
    "import bw2data"
   ]
  },
  {
   "cell_type": "code",
   "execution_count": 2,
   "id": "e848dab734b16d4e",
   "metadata": {
    "ExecuteTime": {
     "end_time": "2025-08-18T14:45:17.487150Z",
     "start_time": "2025-08-18T14:45:17.469020Z"
    }
   },
   "outputs": [],
   "source": [
    "bw2data.projects.set_current(\"ecoinvent-3.11-cutoff\")"
   ]
  },
  {
   "cell_type": "code",
   "execution_count": 3,
   "id": "4459475c21f2024a",
   "metadata": {
    "ExecuteTime": {
     "end_time": "2025-08-18T14:45:40.419066Z",
     "start_time": "2025-08-18T14:45:40.416516Z"
    }
   },
   "outputs": [],
   "source": [
    "import bw2io"
   ]
  },
  {
   "cell_type": "code",
   "execution_count": 4,
   "id": "eb946efa5feb977e",
   "metadata": {
    "ExecuteTime": {
     "end_time": "2025-08-18T14:57:28.526159Z",
     "start_time": "2025-08-18T14:57:28.512984Z"
    }
   },
   "outputs": [
    {
     "data": {
      "text/plain": [
       "Methods dictionary with 633 objects, including:\n",
       "\t('CML v4.8 2016', 'acidification', 'acidification (incl. fate, average Europe total, A&B)')\n",
       "\t('CML v4.8 2016', 'climate change', 'global warming potential (GWP100)')\n",
       "\t('CML v4.8 2016', 'ecotoxicity: freshwater', 'freshwater aquatic ecotoxicity (FAETP inf)')\n",
       "\t('CML v4.8 2016', 'ecotoxicity: marine', 'marine aquatic ecotoxicity (MAETP inf)')\n",
       "\t('CML v4.8 2016', 'ecotoxicity: terrestrial', 'terrestrial ecotoxicity (TETP inf)')\n",
       "\t('CML v4.8 2016', 'energy resources: non-renewable', 'abiotic depletion potential (ADP): fossil fuels')\n",
       "\t('CML v4.8 2016', 'eutrophication', 'eutrophication (fate not incl.)')\n",
       "\t('CML v4.8 2016', 'human toxicity', 'human toxicity (HTP inf)')\n",
       "\t('CML v4.8 2016', 'material resources: metals/minerals', 'abiotic depletion potential (ADP): elements (ultimate reserves)')\n",
       "\t('CML v4.8 2016', 'ozone depletion', 'ozone layer depletion (ODP steady state)')\n",
       "Use `list(this object)` to get the complete list."
      ]
     },
     "execution_count": 4,
     "metadata": {},
     "output_type": "execute_result"
    }
   ],
   "source": [
    "bw2data.methods"
   ]
  },
  {
   "cell_type": "code",
   "execution_count": 7,
   "id": "c429ca59ebf38f75",
   "metadata": {
    "ExecuteTime": {
     "end_time": "2025-08-18T14:57:36.179523Z",
     "start_time": "2025-08-18T14:57:36.177605Z"
    }
   },
   "outputs": [],
   "source": [
    "data = []"
   ]
  },
  {
   "cell_type": "code",
   "execution_count": 8,
   "id": "24bbef68ffcbe47f",
   "metadata": {
    "ExecuteTime": {
     "end_time": "2025-08-18T15:01:15.049073Z",
     "start_time": "2025-08-18T15:01:14.976600Z"
    }
   },
   "outputs": [],
   "source": [
    "for m in bw2data.methods:\n",
    "    sub = {}\n",
    "    sub[\"name\"] = list(m)\n",
    "\n",
    "    method = bw2data.Method(m)\n",
    "    sub[\"unit\"] = method.metadata[\"unit\"]\n",
    "\n",
    "    flows = []\n",
    "    for flow, cf in method.load():\n",
    "        f = bw2data.get_activity(flow)\n",
    "        flows.append(\n",
    "            {\n",
    "                \"name\": f[\"name\"],\n",
    "                \"categories\": list(f[\"categories\"]),\n",
    "                \"amount\": cf\n",
    "            }\n",
    "        )\n",
    "        \n",
    "    sub[\"exchanges\"] = flows\n",
    "    data.append(sub)"
   ]
  },
  {
   "cell_type": "code",
   "execution_count": 10,
   "id": "c764e1a6-6158-4339-8703-eca6d66faac0",
   "metadata": {},
   "outputs": [],
   "source": [
    "import json\n",
    "with open('lcia_ei311.json', 'w') as f:\n",
    "    json.dump(data, f)\n"
   ]
  },
  {
   "cell_type": "code",
   "execution_count": 19,
   "id": "23de219e4a525107",
   "metadata": {
    "ExecuteTime": {
     "end_time": "2025-08-18T15:02:50.700374Z",
     "start_time": "2025-08-18T15:02:50.697216Z"
    }
   },
   "outputs": [
    {
     "data": {
      "text/plain": [
       "{'description': '',\n",
       " 'filename': 'LCIA_Implementation_3.9.xlsx',\n",
       " 'unit': 'kg SO2-Eq',\n",
       " 'abbreviation': 'cml-v48-2016-no-ltaa.9326888b5dfc8ad763461e87dc5a0a9e',\n",
       " 'num_cfs': 21}"
      ]
     },
     "execution_count": 19,
     "metadata": {},
     "output_type": "execute_result"
    }
   ],
   "source": [
    "method.load()"
   ]
  },
  {
   "cell_type": "code",
   "execution_count": null,
   "id": "c5644b637a69139f",
   "metadata": {},
   "outputs": [],
   "source": []
  }
 ],
 "metadata": {
  "kernelspec": {
   "display_name": "Python 3 (ipykernel)",
   "language": "python",
   "name": "python3"
  },
  "language_info": {
   "codemirror_mode": {
    "name": "ipython",
    "version": 3
   },
   "file_extension": ".py",
   "mimetype": "text/x-python",
   "name": "python",
   "nbconvert_exporter": "python",
   "pygments_lexer": "ipython3",
   "version": "3.11.12"
  }
 },
 "nbformat": 4,
 "nbformat_minor": 5
}
