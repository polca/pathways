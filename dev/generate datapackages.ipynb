{
 "cells": [
  {
   "cell_type": "code",
   "execution_count": null,
   "id": "6f956f44-5eac-47fc-9097-08c5bae86ecd",
   "metadata": {},
   "outputs": [],
   "source": [
    "from premise import *\n",
    "import bw2data\n",
    "from datapackage import Package\n",
    "bw2data.projects.set_current(\"ei310\")\n",
    "\n",
    "ndb = NewDatabase(\n",
    "    scenarios=[\n",
    "        {\"model\": \"image\",\n",
    "         \"pathway\": \"SSP2-Base\",\n",
    "         \"year\": 2050},\n",
    "    ],\n",
    "    #years=[2005, 2010, 2020, 2030, 2040, 2050, 2060, 2070, 2080, 2090, 2100],\n",
    "    #years=[2020, ],\n",
    "    source_db=\"ecoinvent 3.9.1 cutoff\", # <-- name of the database in the BW2 project. Must be a string.\n",
    "    source_version=\"3.9\", # <-- version of ecoinvent. Can be \"3.5\", \"3.6\", \"3.7\" or \"3.8\". Must be a string.\n",
    "    key=\"tUePmX_S5B8ieZkkM7WUU2CnO8SmShwmAeWK9x2rTFo=\",\n",
    ")\n",
    "ndb.update()\n",
    "ndb.write_db_to_brightway()"
   ]
  },
  {
   "cell_type": "code",
   "execution_count": 2,
   "id": "f7d15e94-9a93-4314-9a69-11f50243b166",
   "metadata": {},
   "outputs": [
    {
     "name": "stdout",
     "output_type": "stream",
     "text": [
      "`update()` will skip the following sectors: 'buses', 'cars', 'two_wheelers'.\n",
      "If you want to update these sectors, please run them separately afterwards.\n"
     ]
    },
    {
     "name": "stderr",
     "output_type": "stream",
     "text": [
      "Updating: external:  91%|██████████▉ | 10/11 [35:31<03:33, 213.11s/it]\n"
     ]
    },
    {
     "name": "stdout",
     "output_type": "stream",
     "text": [
      "External scenarios (datapackages) are not provided. Skipped.\n",
      "Done!\n",
      "\n",
      "Extracted 1 worksheets in 0.03 seconds\n",
      "Remove uncertainty data.\n",
      "Extracted 1 worksheets in 0.02 seconds\n",
      "Remove uncertainty data.\n",
      "Extracted 1 worksheets in 0.02 seconds\n",
      "Remove uncertainty data.\n",
      "Extracted 1 worksheets in 0.02 seconds\n",
      "Remove uncertainty data.\n",
      "Extracted 1 worksheets in 0.02 seconds\n",
      "Remove uncertainty data.\n",
      "Extracted 1 worksheets in 0.02 seconds\n",
      "Remove uncertainty data.\n",
      "Extracted 1 worksheets in 0.02 seconds\n",
      "Remove uncertainty data.\n",
      "Extracted 1 worksheets in 0.02 seconds\n",
      "Remove uncertainty data.\n",
      "Extracted 1 worksheets in 0.02 seconds\n",
      "Remove uncertainty data.\n",
      "Extracted 1 worksheets in 0.02 seconds\n",
      "Remove uncertainty data.\n",
      "Extracted 1 worksheets in 0.02 seconds\n",
      "Remove uncertainty data.\n",
      "Write new database(s) to matrix.\n",
      "Running all checks...\n",
      "Anomalies found: check the change report.\n",
      "Running all checks...\n",
      "Anomalies found: check the change report.\n",
      "Running all checks...\n",
      "Anomalies found: check the change report.\n",
      "Matrices saved in /Users/romain/GitHub/pathways/dev/pathways/inventories/image/SSP2-RCP19/2030.\n",
      "Matrices saved in /Users/romain/GitHub/pathways/dev/pathways/inventories/image/SSP2-RCP19/2040.\n",
      "Matrices saved in /Users/romain/GitHub/pathways/dev/pathways/inventories/image/SSP2-RCP19/2050.\n",
      "Matrices saved in /Users/romain/GitHub/pathways/dev/pathways/inventories/image/SSP2-RCP19/2005.\n",
      "Matrices saved in /Users/romain/GitHub/pathways/dev/pathways/inventories/image/SSP2-RCP19/2080.\n",
      "Matrices saved in /Users/romain/GitHub/pathways/dev/pathways/inventories/image/SSP2-RCP19/2070.\n",
      "Matrices saved in /Users/romain/GitHub/pathways/dev/pathways/inventories/image/SSP2-RCP19/2060.\n",
      "Matrices saved in /Users/romain/GitHub/pathways/dev/pathways/inventories/image/SSP2-RCP19/2010.\n",
      "Matrices saved in /Users/romain/GitHub/pathways/dev/pathways/inventories/image/SSP2-RCP19/2090.\n",
      "Generate scenario report.\n",
      "Report saved under /Users/romain/GitHub/pathways/dev/export/scenario_report.\n",
      "Generate change report.\n",
      "Report saved under /Users/romain/GitHub/pathways/dev.\n",
      "Data package saved at /Users/romain/GitHub/pathways/dev/pathways/image-SSP2-RCP19.zip\n"
     ]
    }
   ],
   "source": [
    "ndb.create_datapackage(\n",
    "    name=\"image-SSP2-RCP19\",\n",
    "    contributors=[\n",
    "        {\"name\": \"Romain\",\n",
    "        \"email\": \"r_s at me.com\",}\n",
    "    ],\n",
    ")"
   ]
  },
  {
   "cell_type": "code",
   "execution_count": 2,
   "id": "54d3a225-e170-45ca-bb99-2cef313b7bdc",
   "metadata": {},
   "outputs": [
    {
     "data": {
      "text/plain": [
       "PosixPath('/Users/romain/Library/Application Support/pathways')"
      ]
     },
     "execution_count": 2,
     "metadata": {},
     "output_type": "execute_result"
    }
   ],
   "source": [
    "from pathways.filesystem_constants import USER_DATA_BASE_DIR\n",
    "USER_DATA_BASE_DIR"
   ]
  },
  {
   "cell_type": "code",
   "execution_count": 1,
   "id": "9d57850c-04fa-4ef7-89e8-3e9de62f92e3",
   "metadata": {},
   "outputs": [
    {
     "name": "stdout",
     "output_type": "stream",
     "text": [
      "Solver: scikits.umfpack\n",
      "Invalid datapackage: Descriptor validation error: {'path': 'mapping/mapping.yaml', 'profile': 'data-resource', 'name': 'mapping', 'format': 'yaml', 'mediatype': 'text/yaml', 'encoding': 'utf-8'} is not valid under any of the given schemas at \"resources/45\" in descriptor and at \"properties/resources/items/oneOf\" in profile\n",
      "Invalid datapackage: Descriptor validation error: 'data-resource' is not one of ['tabular-data-resource'] at \"resources/45/profile\" in descriptor and at \"properties/resources/items/properties/profile/enum\" in profile\n"
     ]
    }
   ],
   "source": [
    "from pathways import Pathways\n",
    "p = Pathways(datapackage=\"./image-SSP2-RCP19/datapackage.json\")"
   ]
  },
  {
   "cell_type": "code",
   "execution_count": 2,
   "id": "a081c764-a942-4627-9197-fcd373e98b62",
   "metadata": {},
   "outputs": [
    {
     "name": "stdout",
     "output_type": "stream",
     "text": [
      "Calculating LCA results for image...\n",
      "--- Calculating LCA results for SSP2-RCP19...\n",
      "------ Calculating LCA results for 2005...\n"
     ]
    },
    {
     "name": "stderr",
     "output_type": "stream",
     "text": [
      "0% [##########################] 100% | ETA: 00:00:00\n",
      "Total time elapsed: 00:00:15\n"
     ]
    },
    {
     "name": "stdout",
     "output_type": "stream",
     "text": [
      "------ Calculating LCA results for 2010...\n"
     ]
    },
    {
     "name": "stderr",
     "output_type": "stream",
     "text": [
      "0% [##########################] 100% | ETA: 00:00:00\n",
      "Total time elapsed: 00:00:13\n"
     ]
    },
    {
     "name": "stdout",
     "output_type": "stream",
     "text": [
      "------ Calculating LCA results for 2015...\n",
      "LCA matrices not found for the given model, scenario, and year.\n",
      "------ Calculating LCA results for 2020...\n"
     ]
    },
    {
     "name": "stderr",
     "output_type": "stream",
     "text": [
      "0% [##########################] 100% | ETA: 00:00:00\n",
      "Total time elapsed: 00:00:15\n"
     ]
    },
    {
     "name": "stdout",
     "output_type": "stream",
     "text": [
      "------ Calculating LCA results for 2025...\n",
      "LCA matrices not found for the given model, scenario, and year.\n",
      "------ Calculating LCA results for 2030...\n"
     ]
    },
    {
     "name": "stderr",
     "output_type": "stream",
     "text": [
      "0% [##########################] 100% | ETA: 00:00:00\n",
      "Total time elapsed: 00:00:19\n"
     ]
    },
    {
     "name": "stdout",
     "output_type": "stream",
     "text": [
      "------ Calculating LCA results for 2035...\n",
      "LCA matrices not found for the given model, scenario, and year.\n",
      "------ Calculating LCA results for 2040...\n"
     ]
    },
    {
     "name": "stderr",
     "output_type": "stream",
     "text": [
      "/Users/romain/anaconda3/envs/pathways/lib/python3.11/site-packages/scikits/umfpack/umfpack.py:736: UmfpackWarning: (almost) singular matrix! (estimated cond. number: 1.03e+12)\n",
      "  warnings.warn(msg, UmfpackWarning)\n",
      "0% [#                         ] 100% | ETA: 00:00:01/Users/romain/anaconda3/envs/pathways/lib/python3.11/site-packages/scikits/umfpack/umfpack.py:736: UmfpackWarning: (almost) singular matrix! (estimated cond. number: 1.03e+12)\n",
      "  warnings.warn(msg, UmfpackWarning)\n",
      "/Users/romain/anaconda3/envs/pathways/lib/python3.11/site-packages/scikits/umfpack/umfpack.py:736: UmfpackWarning: (almost) singular matrix! (estimated cond. number: 1.03e+12)\n",
      "  warnings.warn(msg, UmfpackWarning)\n",
      "0% [###                       ] 100% | ETA: 00:00:12/Users/romain/anaconda3/envs/pathways/lib/python3.11/site-packages/scikits/umfpack/umfpack.py:736: UmfpackWarning: (almost) singular matrix! (estimated cond. number: 1.03e+12)\n",
      "  warnings.warn(msg, UmfpackWarning)\n",
      "/Users/romain/anaconda3/envs/pathways/lib/python3.11/site-packages/scikits/umfpack/umfpack.py:736: UmfpackWarning: (almost) singular matrix! (estimated cond. number: 1.03e+12)\n",
      "  warnings.warn(msg, UmfpackWarning)\n",
      "0% [####                      ] 100% | ETA: 00:00:16/Users/romain/anaconda3/envs/pathways/lib/python3.11/site-packages/scikits/umfpack/umfpack.py:736: UmfpackWarning: (almost) singular matrix! (estimated cond. number: 1.03e+12)\n",
      "  warnings.warn(msg, UmfpackWarning)\n",
      "0% [######                    ] 100% | ETA: 00:00:15/Users/romain/anaconda3/envs/pathways/lib/python3.11/site-packages/scikits/umfpack/umfpack.py:736: UmfpackWarning: (almost) singular matrix! (estimated cond. number: 1.03e+12)\n",
      "  warnings.warn(msg, UmfpackWarning)\n",
      "/Users/romain/anaconda3/envs/pathways/lib/python3.11/site-packages/scikits/umfpack/umfpack.py:736: UmfpackWarning: (almost) singular matrix! (estimated cond. number: 1.03e+12)\n",
      "  warnings.warn(msg, UmfpackWarning)\n",
      "0% [########                  ] 100% | ETA: 00:00:14/Users/romain/anaconda3/envs/pathways/lib/python3.11/site-packages/scikits/umfpack/umfpack.py:736: UmfpackWarning: (almost) singular matrix! (estimated cond. number: 1.03e+12)\n",
      "  warnings.warn(msg, UmfpackWarning)\n",
      "0% [#########                 ] 100% | ETA: 00:00:13/Users/romain/anaconda3/envs/pathways/lib/python3.11/site-packages/scikits/umfpack/umfpack.py:736: UmfpackWarning: (almost) singular matrix! (estimated cond. number: 1.03e+12)\n",
      "  warnings.warn(msg, UmfpackWarning)\n",
      "/Users/romain/anaconda3/envs/pathways/lib/python3.11/site-packages/scikits/umfpack/umfpack.py:736: UmfpackWarning: (almost) singular matrix! (estimated cond. number: 1.03e+12)\n",
      "  warnings.warn(msg, UmfpackWarning)\n",
      "0% [###########               ] 100% | ETA: 00:00:12/Users/romain/anaconda3/envs/pathways/lib/python3.11/site-packages/scikits/umfpack/umfpack.py:736: UmfpackWarning: (almost) singular matrix! (estimated cond. number: 1.03e+12)\n",
      "  warnings.warn(msg, UmfpackWarning)\n",
      "/Users/romain/anaconda3/envs/pathways/lib/python3.11/site-packages/scikits/umfpack/umfpack.py:736: UmfpackWarning: (almost) singular matrix! (estimated cond. number: 1.03e+12)\n",
      "  warnings.warn(msg, UmfpackWarning)\n",
      "0% [#############             ] 100% | ETA: 00:00:11/Users/romain/anaconda3/envs/pathways/lib/python3.11/site-packages/scikits/umfpack/umfpack.py:736: UmfpackWarning: (almost) singular matrix! (estimated cond. number: 1.03e+12)\n",
      "  warnings.warn(msg, UmfpackWarning)\n",
      "0% [##############            ] 100% | ETA: 00:00:10/Users/romain/anaconda3/envs/pathways/lib/python3.11/site-packages/scikits/umfpack/umfpack.py:736: UmfpackWarning: (almost) singular matrix! (estimated cond. number: 1.03e+12)\n",
      "  warnings.warn(msg, UmfpackWarning)\n",
      "/Users/romain/anaconda3/envs/pathways/lib/python3.11/site-packages/scikits/umfpack/umfpack.py:736: UmfpackWarning: (almost) singular matrix! (estimated cond. number: 1.03e+12)\n",
      "  warnings.warn(msg, UmfpackWarning)\n",
      "0% [################          ] 100% | ETA: 00:00:08/Users/romain/anaconda3/envs/pathways/lib/python3.11/site-packages/scikits/umfpack/umfpack.py:736: UmfpackWarning: (almost) singular matrix! (estimated cond. number: 1.03e+12)\n",
      "  warnings.warn(msg, UmfpackWarning)\n",
      "/Users/romain/anaconda3/envs/pathways/lib/python3.11/site-packages/scikits/umfpack/umfpack.py:736: UmfpackWarning: (almost) singular matrix! (estimated cond. number: 1.03e+12)\n",
      "  warnings.warn(msg, UmfpackWarning)\n",
      "0% [#################         ] 100% | ETA: 00:00:07/Users/romain/anaconda3/envs/pathways/lib/python3.11/site-packages/scikits/umfpack/umfpack.py:736: UmfpackWarning: (almost) singular matrix! (estimated cond. number: 1.03e+12)\n",
      "  warnings.warn(msg, UmfpackWarning)\n",
      "0% [###################       ] 100% | ETA: 00:00:06/Users/romain/anaconda3/envs/pathways/lib/python3.11/site-packages/scikits/umfpack/umfpack.py:736: UmfpackWarning: (almost) singular matrix! (estimated cond. number: 1.03e+12)\n",
      "  warnings.warn(msg, UmfpackWarning)\n",
      "/Users/romain/anaconda3/envs/pathways/lib/python3.11/site-packages/scikits/umfpack/umfpack.py:736: UmfpackWarning: (almost) singular matrix! (estimated cond. number: 1.03e+12)\n",
      "  warnings.warn(msg, UmfpackWarning)\n",
      "0% [#####################     ] 100% | ETA: 00:00:04/Users/romain/anaconda3/envs/pathways/lib/python3.11/site-packages/scikits/umfpack/umfpack.py:736: UmfpackWarning: (almost) singular matrix! (estimated cond. number: 1.03e+12)\n",
      "  warnings.warn(msg, UmfpackWarning)\n",
      "0% [######################    ] 100% | ETA: 00:00:03/Users/romain/anaconda3/envs/pathways/lib/python3.11/site-packages/scikits/umfpack/umfpack.py:736: UmfpackWarning: (almost) singular matrix! (estimated cond. number: 1.03e+12)\n",
      "  warnings.warn(msg, UmfpackWarning)\n",
      "/Users/romain/anaconda3/envs/pathways/lib/python3.11/site-packages/scikits/umfpack/umfpack.py:736: UmfpackWarning: (almost) singular matrix! (estimated cond. number: 1.03e+12)\n",
      "  warnings.warn(msg, UmfpackWarning)\n",
      "0% [########################  ] 100% | ETA: 00:00:01/Users/romain/anaconda3/envs/pathways/lib/python3.11/site-packages/scikits/umfpack/umfpack.py:736: UmfpackWarning: (almost) singular matrix! (estimated cond. number: 1.03e+12)\n",
      "  warnings.warn(msg, UmfpackWarning)\n",
      "/Users/romain/anaconda3/envs/pathways/lib/python3.11/site-packages/scikits/umfpack/umfpack.py:736: UmfpackWarning: (almost) singular matrix! (estimated cond. number: 1.03e+12)\n",
      "  warnings.warn(msg, UmfpackWarning)\n",
      "0% [##########################] 100% | ETA: 00:00:00\n",
      "Total time elapsed: 00:00:24\n",
      "/Users/romain/anaconda3/envs/pathways/lib/python3.11/site-packages/scikits/umfpack/umfpack.py:736: UmfpackWarning: (almost) singular matrix! (estimated cond. number: 1.03e+12)\n",
      "  warnings.warn(msg, UmfpackWarning)\n"
     ]
    },
    {
     "name": "stdout",
     "output_type": "stream",
     "text": [
      "------ Calculating LCA results for 2045...\n",
      "LCA matrices not found for the given model, scenario, and year.\n",
      "------ Calculating LCA results for 2050...\n"
     ]
    },
    {
     "name": "stderr",
     "output_type": "stream",
     "text": [
      "0% [##########################] 100% | ETA: 00:00:00\n",
      "Total time elapsed: 00:00:21\n"
     ]
    },
    {
     "name": "stdout",
     "output_type": "stream",
     "text": [
      "------ Calculating LCA results for 2060...\n"
     ]
    },
    {
     "name": "stderr",
     "output_type": "stream",
     "text": [
      "/Users/romain/anaconda3/envs/pathways/lib/python3.11/site-packages/scikits/umfpack/umfpack.py:736: UmfpackWarning: (almost) singular matrix! (estimated cond. number: 1.19e+12)\n",
      "  warnings.warn(msg, UmfpackWarning)\n",
      "0% [#                         ] 100% | ETA: 00:00:01/Users/romain/anaconda3/envs/pathways/lib/python3.11/site-packages/scikits/umfpack/umfpack.py:736: UmfpackWarning: (almost) singular matrix! (estimated cond. number: 1.19e+12)\n",
      "  warnings.warn(msg, UmfpackWarning)\n",
      "/Users/romain/anaconda3/envs/pathways/lib/python3.11/site-packages/scikits/umfpack/umfpack.py:736: UmfpackWarning: (almost) singular matrix! (estimated cond. number: 1.19e+12)\n",
      "  warnings.warn(msg, UmfpackWarning)\n",
      "0% [###                       ] 100% | ETA: 00:00:15/Users/romain/anaconda3/envs/pathways/lib/python3.11/site-packages/scikits/umfpack/umfpack.py:736: UmfpackWarning: (almost) singular matrix! (estimated cond. number: 1.19e+12)\n",
      "  warnings.warn(msg, UmfpackWarning)\n",
      "/Users/romain/anaconda3/envs/pathways/lib/python3.11/site-packages/scikits/umfpack/umfpack.py:736: UmfpackWarning: (almost) singular matrix! (estimated cond. number: 1.19e+12)\n",
      "  warnings.warn(msg, UmfpackWarning)\n",
      "0% [####                      ] 100% | ETA: 00:00:15/Users/romain/anaconda3/envs/pathways/lib/python3.11/site-packages/scikits/umfpack/umfpack.py:736: UmfpackWarning: (almost) singular matrix! (estimated cond. number: 1.19e+12)\n",
      "  warnings.warn(msg, UmfpackWarning)\n",
      "0% [######                    ] 100% | ETA: 00:00:14/Users/romain/anaconda3/envs/pathways/lib/python3.11/site-packages/scikits/umfpack/umfpack.py:736: UmfpackWarning: (almost) singular matrix! (estimated cond. number: 1.19e+12)\n",
      "  warnings.warn(msg, UmfpackWarning)\n",
      "/Users/romain/anaconda3/envs/pathways/lib/python3.11/site-packages/scikits/umfpack/umfpack.py:736: UmfpackWarning: (almost) singular matrix! (estimated cond. number: 1.19e+12)\n",
      "  warnings.warn(msg, UmfpackWarning)\n",
      "0% [########                  ] 100% | ETA: 00:00:13/Users/romain/anaconda3/envs/pathways/lib/python3.11/site-packages/scikits/umfpack/umfpack.py:736: UmfpackWarning: (almost) singular matrix! (estimated cond. number: 1.19e+12)\n",
      "  warnings.warn(msg, UmfpackWarning)\n",
      "0% [#########                 ] 100% | ETA: 00:00:13/Users/romain/anaconda3/envs/pathways/lib/python3.11/site-packages/scikits/umfpack/umfpack.py:736: UmfpackWarning: (almost) singular matrix! (estimated cond. number: 1.19e+12)\n",
      "  warnings.warn(msg, UmfpackWarning)\n",
      "/Users/romain/anaconda3/envs/pathways/lib/python3.11/site-packages/scikits/umfpack/umfpack.py:736: UmfpackWarning: (almost) singular matrix! (estimated cond. number: 1.19e+12)\n",
      "  warnings.warn(msg, UmfpackWarning)\n",
      "0% [###########               ] 100% | ETA: 00:00:12/Users/romain/anaconda3/envs/pathways/lib/python3.11/site-packages/scikits/umfpack/umfpack.py:736: UmfpackWarning: (almost) singular matrix! (estimated cond. number: 1.19e+12)\n",
      "  warnings.warn(msg, UmfpackWarning)\n",
      "/Users/romain/anaconda3/envs/pathways/lib/python3.11/site-packages/scikits/umfpack/umfpack.py:736: UmfpackWarning: (almost) singular matrix! (estimated cond. number: 1.19e+12)\n",
      "  warnings.warn(msg, UmfpackWarning)\n",
      "0% [#############             ] 100% | ETA: 00:00:10/Users/romain/anaconda3/envs/pathways/lib/python3.11/site-packages/scikits/umfpack/umfpack.py:736: UmfpackWarning: (almost) singular matrix! (estimated cond. number: 1.19e+12)\n",
      "  warnings.warn(msg, UmfpackWarning)\n",
      "0% [##############            ] 100% | ETA: 00:00:10/Users/romain/anaconda3/envs/pathways/lib/python3.11/site-packages/scikits/umfpack/umfpack.py:736: UmfpackWarning: (almost) singular matrix! (estimated cond. number: 1.19e+12)\n",
      "  warnings.warn(msg, UmfpackWarning)\n",
      "/Users/romain/anaconda3/envs/pathways/lib/python3.11/site-packages/scikits/umfpack/umfpack.py:736: UmfpackWarning: (almost) singular matrix! (estimated cond. number: 1.19e+12)\n",
      "  warnings.warn(msg, UmfpackWarning)\n",
      "0% [################          ] 100% | ETA: 00:00:08/Users/romain/anaconda3/envs/pathways/lib/python3.11/site-packages/scikits/umfpack/umfpack.py:736: UmfpackWarning: (almost) singular matrix! (estimated cond. number: 1.19e+12)\n",
      "  warnings.warn(msg, UmfpackWarning)\n",
      "/Users/romain/anaconda3/envs/pathways/lib/python3.11/site-packages/scikits/umfpack/umfpack.py:736: UmfpackWarning: (almost) singular matrix! (estimated cond. number: 1.19e+12)\n",
      "  warnings.warn(msg, UmfpackWarning)\n",
      "0% [#################         ] 100% | ETA: 00:00:06/Users/romain/anaconda3/envs/pathways/lib/python3.11/site-packages/scikits/umfpack/umfpack.py:736: UmfpackWarning: (almost) singular matrix! (estimated cond. number: 1.19e+12)\n",
      "  warnings.warn(msg, UmfpackWarning)\n",
      "0% [###################       ] 100% | ETA: 00:00:06/Users/romain/anaconda3/envs/pathways/lib/python3.11/site-packages/scikits/umfpack/umfpack.py:736: UmfpackWarning: (almost) singular matrix! (estimated cond. number: 1.19e+12)\n",
      "  warnings.warn(msg, UmfpackWarning)\n",
      "/Users/romain/anaconda3/envs/pathways/lib/python3.11/site-packages/scikits/umfpack/umfpack.py:736: UmfpackWarning: (almost) singular matrix! (estimated cond. number: 1.19e+12)\n",
      "  warnings.warn(msg, UmfpackWarning)\n",
      "0% [#####################     ] 100% | ETA: 00:00:04/Users/romain/anaconda3/envs/pathways/lib/python3.11/site-packages/scikits/umfpack/umfpack.py:736: UmfpackWarning: (almost) singular matrix! (estimated cond. number: 1.19e+12)\n",
      "  warnings.warn(msg, UmfpackWarning)\n",
      "0% [######################    ] 100% | ETA: 00:00:03/Users/romain/anaconda3/envs/pathways/lib/python3.11/site-packages/scikits/umfpack/umfpack.py:736: UmfpackWarning: (almost) singular matrix! (estimated cond. number: 1.19e+12)\n",
      "  warnings.warn(msg, UmfpackWarning)\n",
      "/Users/romain/anaconda3/envs/pathways/lib/python3.11/site-packages/scikits/umfpack/umfpack.py:736: UmfpackWarning: (almost) singular matrix! (estimated cond. number: 1.19e+12)\n",
      "  warnings.warn(msg, UmfpackWarning)\n",
      "0% [########################  ] 100% | ETA: 00:00:01/Users/romain/anaconda3/envs/pathways/lib/python3.11/site-packages/scikits/umfpack/umfpack.py:736: UmfpackWarning: (almost) singular matrix! (estimated cond. number: 1.19e+12)\n",
      "  warnings.warn(msg, UmfpackWarning)\n",
      "/Users/romain/anaconda3/envs/pathways/lib/python3.11/site-packages/scikits/umfpack/umfpack.py:736: UmfpackWarning: (almost) singular matrix! (estimated cond. number: 1.19e+12)\n",
      "  warnings.warn(msg, UmfpackWarning)\n",
      "0% [##########################] 100% | ETA: 00:00:00\n",
      "Total time elapsed: 00:00:23\n",
      "/Users/romain/anaconda3/envs/pathways/lib/python3.11/site-packages/scikits/umfpack/umfpack.py:736: UmfpackWarning: (almost) singular matrix! (estimated cond. number: 1.19e+12)\n",
      "  warnings.warn(msg, UmfpackWarning)\n"
     ]
    },
    {
     "name": "stdout",
     "output_type": "stream",
     "text": [
      "------ Calculating LCA results for 2070...\n"
     ]
    },
    {
     "name": "stderr",
     "output_type": "stream",
     "text": [
      "0% [##########################] 100% | ETA: 00:00:00\n",
      "Total time elapsed: 00:00:21\n"
     ]
    },
    {
     "name": "stdout",
     "output_type": "stream",
     "text": [
      "------ Calculating LCA results for 2080...\n"
     ]
    },
    {
     "name": "stderr",
     "output_type": "stream",
     "text": [
      "0% [##########################] 100% | ETA: 00:00:00\n",
      "Total time elapsed: 00:00:16\n"
     ]
    },
    {
     "name": "stdout",
     "output_type": "stream",
     "text": [
      "------ Calculating LCA results for 2090...\n"
     ]
    },
    {
     "name": "stderr",
     "output_type": "stream",
     "text": [
      "0% [##########################] 100% | ETA: 00:00:00\n",
      "Total time elapsed: 00:00:15\n"
     ]
    },
    {
     "name": "stdout",
     "output_type": "stream",
     "text": [
      "------ Calculating LCA results for 2100...\n"
     ]
    },
    {
     "name": "stderr",
     "output_type": "stream",
     "text": [
      "0% [##########################] 100% | ETA: 00:00:00\n",
      "Total time elapsed: 00:00:17\n",
      "0% [###########] 100% | ETA: 00:00:00\n",
      "Total time elapsed: 00:07:25\n"
     ]
    }
   ],
   "source": [
    "import numpy as np\n",
    "p.calculate(\n",
    "    methods=[\n",
    "        #'EF v3.1 - climate change - global warming potential (GWP100)',\n",
    "        'RELICS - metals extraction - Lithium',\n",
    "    ],\n",
    "    regions=[r for r in p.scenarios.coords[\"region\"].values if r!=\"World\"],\n",
    "    scenarios=[\"SSP2-RCP19\",],\n",
    "    variables=[\n",
    "        v for v in p.scenarios.coords[\"variables\"].values\n",
    "        if any(i in v for i in [\"Industry\", \"Transport\", \"Heating\"])\n",
    "    ],\n",
    "    #years=[2005, 2010],\n",
    "    characterization=True,\n",
    "    multiprocessing=False,\n",
    "    demand_cutoff=0.01,\n",
    ")"
   ]
  },
  {
   "cell_type": "code",
   "execution_count": 3,
   "id": "162124db-232b-494e-a8ef-8b90d1b87411",
   "metadata": {},
   "outputs": [],
   "source": [
    "df = p.lca_results.sum(dim=\"act_category\").to_dataframe(\"value\")"
   ]
  },
  {
   "cell_type": "code",
   "execution_count": 4,
   "id": "cb52417b-e7a3-46ed-bbe6-8ff1d1607231",
   "metadata": {},
   "outputs": [
    {
     "data": {
      "text/html": [
       "<div>\n",
       "<style scoped>\n",
       "    .dataframe tbody tr th:only-of-type {\n",
       "        vertical-align: middle;\n",
       "    }\n",
       "\n",
       "    .dataframe tbody tr th {\n",
       "        vertical-align: top;\n",
       "    }\n",
       "\n",
       "    .dataframe thead th {\n",
       "        text-align: right;\n",
       "    }\n",
       "</style>\n",
       "<table border=\"1\" class=\"dataframe\">\n",
       "  <thead>\n",
       "    <tr style=\"text-align: right;\">\n",
       "      <th></th>\n",
       "      <th></th>\n",
       "      <th></th>\n",
       "      <th></th>\n",
       "      <th></th>\n",
       "      <th></th>\n",
       "      <th></th>\n",
       "      <th>value</th>\n",
       "    </tr>\n",
       "    <tr>\n",
       "      <th>variable</th>\n",
       "      <th>year</th>\n",
       "      <th>region</th>\n",
       "      <th>location</th>\n",
       "      <th>model</th>\n",
       "      <th>scenario</th>\n",
       "      <th>impact_category</th>\n",
       "      <th></th>\n",
       "    </tr>\n",
       "  </thead>\n",
       "  <tbody>\n",
       "    <tr>\n",
       "      <th rowspan=\"5\" valign=\"top\">Industry_Food and Tobacco_Electricity</th>\n",
       "      <th rowspan=\"5\" valign=\"top\">2005</th>\n",
       "      <th rowspan=\"5\" valign=\"top\">BRA</th>\n",
       "      <th>BR-AP</th>\n",
       "      <th>image</th>\n",
       "      <th>SSP2-RCP19</th>\n",
       "      <th>RELICS - metals extraction - Lithium</th>\n",
       "      <td>0.0</td>\n",
       "    </tr>\n",
       "    <tr>\n",
       "      <th>KP</th>\n",
       "      <th>image</th>\n",
       "      <th>SSP2-RCP19</th>\n",
       "      <th>RELICS - metals extraction - Lithium</th>\n",
       "      <td>0.0</td>\n",
       "    </tr>\n",
       "    <tr>\n",
       "      <th>JP</th>\n",
       "      <th>image</th>\n",
       "      <th>SSP2-RCP19</th>\n",
       "      <th>RELICS - metals extraction - Lithium</th>\n",
       "      <td>0.0</td>\n",
       "    </tr>\n",
       "    <tr>\n",
       "      <th>BR-ES</th>\n",
       "      <th>image</th>\n",
       "      <th>SSP2-RCP19</th>\n",
       "      <th>RELICS - metals extraction - Lithium</th>\n",
       "      <td>0.0</td>\n",
       "    </tr>\n",
       "    <tr>\n",
       "      <th>CA-MB</th>\n",
       "      <th>image</th>\n",
       "      <th>SSP2-RCP19</th>\n",
       "      <th>RELICS - metals extraction - Lithium</th>\n",
       "      <td>0.0</td>\n",
       "    </tr>\n",
       "    <tr>\n",
       "      <th>...</th>\n",
       "      <th>...</th>\n",
       "      <th>...</th>\n",
       "      <th>...</th>\n",
       "      <th>...</th>\n",
       "      <th>...</th>\n",
       "      <th>...</th>\n",
       "      <td>...</td>\n",
       "    </tr>\n",
       "    <tr>\n",
       "      <th rowspan=\"5\" valign=\"top\">Transport_Freight (train)_Liquid fossil</th>\n",
       "      <th rowspan=\"5\" valign=\"top\">2100</th>\n",
       "      <th rowspan=\"5\" valign=\"top\">WEU</th>\n",
       "      <th>IN-MH</th>\n",
       "      <th>image</th>\n",
       "      <th>SSP2-RCP19</th>\n",
       "      <th>RELICS - metals extraction - Lithium</th>\n",
       "      <td>0.0</td>\n",
       "    </tr>\n",
       "    <tr>\n",
       "      <th>IN-CT</th>\n",
       "      <th>image</th>\n",
       "      <th>SSP2-RCP19</th>\n",
       "      <th>RELICS - metals extraction - Lithium</th>\n",
       "      <td>0.0</td>\n",
       "    </tr>\n",
       "    <tr>\n",
       "      <th>RME</th>\n",
       "      <th>image</th>\n",
       "      <th>SSP2-RCP19</th>\n",
       "      <th>RELICS - metals extraction - Lithium</th>\n",
       "      <td>0.0</td>\n",
       "    </tr>\n",
       "    <tr>\n",
       "      <th>IN</th>\n",
       "      <th>image</th>\n",
       "      <th>SSP2-RCP19</th>\n",
       "      <th>RELICS - metals extraction - Lithium</th>\n",
       "      <td>0.0</td>\n",
       "    </tr>\n",
       "    <tr>\n",
       "      <th>AU</th>\n",
       "      <th>image</th>\n",
       "      <th>SSP2-RCP19</th>\n",
       "      <th>RELICS - metals extraction - Lithium</th>\n",
       "      <td>0.0</td>\n",
       "    </tr>\n",
       "  </tbody>\n",
       "</table>\n",
       "<p>13580970 rows × 1 columns</p>\n",
       "</div>"
      ],
      "text/plain": [
       "                                                                                                                    value\n",
       "variable                                year region location model scenario   impact_category                            \n",
       "Industry_Food and Tobacco_Electricity   2005 BRA    BR-AP    image SSP2-RCP19 RELICS - metals extraction - Lithium    0.0\n",
       "                                                    KP       image SSP2-RCP19 RELICS - metals extraction - Lithium    0.0\n",
       "                                                    JP       image SSP2-RCP19 RELICS - metals extraction - Lithium    0.0\n",
       "                                                    BR-ES    image SSP2-RCP19 RELICS - metals extraction - Lithium    0.0\n",
       "                                                    CA-MB    image SSP2-RCP19 RELICS - metals extraction - Lithium    0.0\n",
       "...                                                                                                                   ...\n",
       "Transport_Freight (train)_Liquid fossil 2100 WEU    IN-MH    image SSP2-RCP19 RELICS - metals extraction - Lithium    0.0\n",
       "                                                    IN-CT    image SSP2-RCP19 RELICS - metals extraction - Lithium    0.0\n",
       "                                                    RME      image SSP2-RCP19 RELICS - metals extraction - Lithium    0.0\n",
       "                                                    IN       image SSP2-RCP19 RELICS - metals extraction - Lithium    0.0\n",
       "                                                    AU       image SSP2-RCP19 RELICS - metals extraction - Lithium    0.0\n",
       "\n",
       "[13580970 rows x 1 columns]"
      ]
     },
     "execution_count": 4,
     "metadata": {},
     "output_type": "execute_result"
    }
   ],
   "source": [
    "df"
   ]
  },
  {
   "cell_type": "code",
   "execution_count": 5,
   "id": "9e187610-3d3d-4998-a5de-9a88049ae031",
   "metadata": {},
   "outputs": [
    {
     "data": {
      "text/plain": [
       "13580970"
      ]
     },
     "execution_count": 5,
     "metadata": {},
     "output_type": "execute_result"
    }
   ],
   "source": [
    "len(df)"
   ]
  },
  {
   "cell_type": "code",
   "execution_count": 6,
   "id": "7a8e3d53-89f2-4cd3-b957-516c0206b653",
   "metadata": {},
   "outputs": [],
   "source": [
    "df = df[df[\"value\"]!=0.0]\n",
    "df = df[~df[\"value\"].isnull()]"
   ]
  },
  {
   "cell_type": "code",
   "execution_count": 7,
   "id": "10253a05-a90d-4cc6-851b-d28ce89188cb",
   "metadata": {},
   "outputs": [
    {
     "data": {
      "text/plain": [
       "51489"
      ]
     },
     "execution_count": 7,
     "metadata": {},
     "output_type": "execute_result"
    }
   ],
   "source": [
    "len(df)"
   ]
  },
  {
   "cell_type": "code",
   "execution_count": 8,
   "id": "aff3301d-4731-4802-97c0-ed88226cd58b",
   "metadata": {},
   "outputs": [],
   "source": [
    "df=df.reset_index()"
   ]
  },
  {
   "cell_type": "code",
   "execution_count": 9,
   "id": "998d8893-98af-4299-b1eb-10ef3a8c7c7c",
   "metadata": {},
   "outputs": [
    {
     "data": {
      "text/html": [
       "<div>\n",
       "<style scoped>\n",
       "    .dataframe tbody tr th:only-of-type {\n",
       "        vertical-align: middle;\n",
       "    }\n",
       "\n",
       "    .dataframe tbody tr th {\n",
       "        vertical-align: top;\n",
       "    }\n",
       "\n",
       "    .dataframe thead th {\n",
       "        text-align: right;\n",
       "    }\n",
       "</style>\n",
       "<table border=\"1\" class=\"dataframe\">\n",
       "  <thead>\n",
       "    <tr style=\"text-align: right;\">\n",
       "      <th></th>\n",
       "      <th>variable</th>\n",
       "      <th>year</th>\n",
       "      <th>region</th>\n",
       "      <th>location</th>\n",
       "      <th>model</th>\n",
       "      <th>scenario</th>\n",
       "      <th>impact_category</th>\n",
       "      <th>value</th>\n",
       "    </tr>\n",
       "  </thead>\n",
       "  <tbody>\n",
       "    <tr>\n",
       "      <th>0</th>\n",
       "      <td>Industry_Food and Tobacco_Electricity</td>\n",
       "      <td>2005</td>\n",
       "      <td>BRA</td>\n",
       "      <td>CL</td>\n",
       "      <td>image</td>\n",
       "      <td>SSP2-RCP19</td>\n",
       "      <td>RELICS - metals extraction - Lithium</td>\n",
       "      <td>2.957607e-02</td>\n",
       "    </tr>\n",
       "    <tr>\n",
       "      <th>1</th>\n",
       "      <td>Industry_Food and Tobacco_Electricity</td>\n",
       "      <td>2005</td>\n",
       "      <td>BRA</td>\n",
       "      <td>RER</td>\n",
       "      <td>image</td>\n",
       "      <td>SSP2-RCP19</td>\n",
       "      <td>RELICS - metals extraction - Lithium</td>\n",
       "      <td>5.798639e-06</td>\n",
       "    </tr>\n",
       "    <tr>\n",
       "      <th>2</th>\n",
       "      <td>Industry_Food and Tobacco_Electricity</td>\n",
       "      <td>2005</td>\n",
       "      <td>BRA</td>\n",
       "      <td>RNA</td>\n",
       "      <td>image</td>\n",
       "      <td>SSP2-RCP19</td>\n",
       "      <td>RELICS - metals extraction - Lithium</td>\n",
       "      <td>4.660310e-06</td>\n",
       "    </tr>\n",
       "    <tr>\n",
       "      <th>3</th>\n",
       "      <td>Industry_Food and Tobacco_Electricity</td>\n",
       "      <td>2005</td>\n",
       "      <td>BRA</td>\n",
       "      <td>DE</td>\n",
       "      <td>image</td>\n",
       "      <td>SSP2-RCP19</td>\n",
       "      <td>RELICS - metals extraction - Lithium</td>\n",
       "      <td>6.650308e-08</td>\n",
       "    </tr>\n",
       "    <tr>\n",
       "      <th>4</th>\n",
       "      <td>Industry_Food and Tobacco_Electricity</td>\n",
       "      <td>2005</td>\n",
       "      <td>BRA</td>\n",
       "      <td>US</td>\n",
       "      <td>image</td>\n",
       "      <td>SSP2-RCP19</td>\n",
       "      <td>RELICS - metals extraction - Lithium</td>\n",
       "      <td>7.912068e-07</td>\n",
       "    </tr>\n",
       "  </tbody>\n",
       "</table>\n",
       "</div>"
      ],
      "text/plain": [
       "                                variable  year region location  model  \\\n",
       "0  Industry_Food and Tobacco_Electricity  2005    BRA       CL  image   \n",
       "1  Industry_Food and Tobacco_Electricity  2005    BRA      RER  image   \n",
       "2  Industry_Food and Tobacco_Electricity  2005    BRA      RNA  image   \n",
       "3  Industry_Food and Tobacco_Electricity  2005    BRA       DE  image   \n",
       "4  Industry_Food and Tobacco_Electricity  2005    BRA       US  image   \n",
       "\n",
       "     scenario                       impact_category         value  \n",
       "0  SSP2-RCP19  RELICS - metals extraction - Lithium  2.957607e-02  \n",
       "1  SSP2-RCP19  RELICS - metals extraction - Lithium  5.798639e-06  \n",
       "2  SSP2-RCP19  RELICS - metals extraction - Lithium  4.660310e-06  \n",
       "3  SSP2-RCP19  RELICS - metals extraction - Lithium  6.650308e-08  \n",
       "4  SSP2-RCP19  RELICS - metals extraction - Lithium  7.912068e-07  "
      ]
     },
     "execution_count": 9,
     "metadata": {},
     "output_type": "execute_result"
    }
   ],
   "source": [
    "df.head()"
   ]
  },
  {
   "cell_type": "code",
   "execution_count": 10,
   "id": "5f2c4b3b-b26c-47ee-8c36-582feb027f58",
   "metadata": {},
   "outputs": [
    {
     "data": {
      "text/plain": [
       "array([2005, 2010, 2020, 2030, 2040, 2050, 2060, 2070, 2080, 2090, 2100])"
      ]
     },
     "execution_count": 10,
     "metadata": {},
     "output_type": "execute_result"
    }
   ],
   "source": [
    "df[\"year\"].unique()"
   ]
  },
  {
   "cell_type": "code",
   "execution_count": 11,
   "id": "1de1d921-4156-46b8-9113-f94214320f50",
   "metadata": {},
   "outputs": [],
   "source": [
    "from premise.geomap import Geomap\n",
    "geo = Geomap(\"image\")"
   ]
  },
  {
   "cell_type": "code",
   "execution_count": 12,
   "id": "57b097ed-0108-4d62-8aaf-0a3d7c76fc48",
   "metadata": {},
   "outputs": [],
   "source": [
    "d = {\n",
    "    loc: geo.ecoinvent_to_iam_location(loc)\n",
    "    for loc in df[\"location\"].unique()\n",
    "}"
   ]
  },
  {
   "cell_type": "code",
   "execution_count": 13,
   "id": "c0b92aed-c162-4f5a-b200-512452d5157e",
   "metadata": {},
   "outputs": [],
   "source": [
    "df[\"region from\"] = df[\"location\"].map(d)"
   ]
  },
  {
   "cell_type": "code",
   "execution_count": 14,
   "id": "829eef08-5bc8-4ee3-8d51-fd55e2beb2b0",
   "metadata": {},
   "outputs": [],
   "source": [
    "df = df.drop('location', axis=1)"
   ]
  },
  {
   "cell_type": "code",
   "execution_count": 15,
   "id": "11c1861f-1a2b-49f6-a1be-94680d5a6b30",
   "metadata": {},
   "outputs": [],
   "source": [
    "df = df.groupby([\n",
    "    'variable', 'year', 'region', 'model', 'scenario', 'impact_category', 'region from'\n",
    "]).sum().reset_index()"
   ]
  },
  {
   "cell_type": "code",
   "execution_count": 16,
   "id": "9acd0483-a477-4250-a28a-aa0d2f510509",
   "metadata": {},
   "outputs": [
    {
     "data": {
      "text/plain": [
       "28605"
      ]
     },
     "execution_count": 16,
     "metadata": {},
     "output_type": "execute_result"
    }
   ],
   "source": [
    "len(df)"
   ]
  },
  {
   "cell_type": "code",
   "execution_count": 17,
   "id": "5b5dde7a-3eb9-4f1d-997e-3c6310e76580",
   "metadata": {},
   "outputs": [],
   "source": [
    "df[\"impact_category\"] = df[\"impact_category\"].str.replace(\"RELICS - metals extraction - \", \"\")\n",
    "df[\"impact_category\"] = df[\"impact_category\"].str.replace(\"EF v3.1 - climate change - global warming potential (GWP100)\", \"climate change\")"
   ]
  },
  {
   "cell_type": "code",
   "execution_count": 18,
   "id": "3361c4c8-c006-4f09-85f4-9d50c10f327f",
   "metadata": {},
   "outputs": [
    {
     "data": {
      "text/plain": [
       "28605"
      ]
     },
     "execution_count": 18,
     "metadata": {},
     "output_type": "execute_result"
    }
   ],
   "source": [
    "len(df)"
   ]
  },
  {
   "cell_type": "code",
   "execution_count": 19,
   "id": "87646c30-91c9-4dcf-b4a0-a52471634580",
   "metadata": {},
   "outputs": [
    {
     "data": {
      "text/html": [
       "\n",
       "        <iframe\n",
       "            width=\"100%\"\n",
       "            height=\"500\"\n",
       "            src=\"pivottable_metals.html\"\n",
       "            frameborder=\"0\"\n",
       "            allowfullscreen\n",
       "            \n",
       "        ></iframe>\n",
       "        "
      ],
      "text/plain": [
       "<IPython.lib.display.IFrame at 0x2889ebc10>"
      ]
     },
     "execution_count": 19,
     "metadata": {},
     "output_type": "execute_result"
    }
   ],
   "source": [
    "from pivottablejs import pivot_ui\n",
    "from IPython.display import HTML\n",
    "pivot_ui(df, outfile_path='pivottable_metals.html')"
   ]
  },
  {
   "cell_type": "code",
   "execution_count": 135,
   "id": "1a20734d-fa1f-4daa-99c7-ac57ad5deb4f",
   "metadata": {},
   "outputs": [],
   "source": [
    "q = p.lca_results.sum(dim=\"act_category\")"
   ]
  },
  {
   "cell_type": "code",
   "execution_count": 138,
   "id": "2da8f7d0-22b7-422d-8cc7-ae2fd20037b3",
   "metadata": {},
   "outputs": [
    {
     "data": {
      "text/plain": [
       "Coordinates:\n",
       "  * variable         (variable) <U49 19kB 'Industry_Food and Tobacco_Electric...\n",
       "  * year             (year) int64 120B 2005 2010 2015 2020 ... 2080 2090 2100\n",
       "  * region           (region) <U3 24B 'BRA' 'CAN'\n",
       "  * location         (location) <U38 55kB 'BR-RN' ... 'CN-QH'\n",
       "  * model            (model) <U5 20B 'image'\n",
       "  * scenario         (scenario) <U10 40B 'SSP2-RCP19'\n",
       "  * impact_category  (impact_category) <U60 480B 'EF v3.1 - climate change - ..."
      ]
     },
     "execution_count": 138,
     "metadata": {},
     "output_type": "execute_result"
    }
   ],
   "source": [
    "q.coords"
   ]
  },
  {
   "cell_type": "code",
   "execution_count": 139,
   "id": "701b3907-31d8-4329-9693-fdbf66ccffd2",
   "metadata": {},
   "outputs": [
    {
     "data": {
      "text/html": [
       "<div><svg style=\"position: absolute; width: 0; height: 0; overflow: hidden\">\n",
       "<defs>\n",
       "<symbol id=\"icon-database\" viewBox=\"0 0 32 32\">\n",
       "<path d=\"M16 0c-8.837 0-16 2.239-16 5v4c0 2.761 7.163 5 16 5s16-2.239 16-5v-4c0-2.761-7.163-5-16-5z\"></path>\n",
       "<path d=\"M16 17c-8.837 0-16-2.239-16-5v6c0 2.761 7.163 5 16 5s16-2.239 16-5v-6c0 2.761-7.163 5-16 5z\"></path>\n",
       "<path d=\"M16 26c-8.837 0-16-2.239-16-5v6c0 2.761 7.163 5 16 5s16-2.239 16-5v-6c0 2.761-7.163 5-16 5z\"></path>\n",
       "</symbol>\n",
       "<symbol id=\"icon-file-text2\" viewBox=\"0 0 32 32\">\n",
       "<path d=\"M28.681 7.159c-0.694-0.947-1.662-2.053-2.724-3.116s-2.169-2.030-3.116-2.724c-1.612-1.182-2.393-1.319-2.841-1.319h-15.5c-1.378 0-2.5 1.121-2.5 2.5v27c0 1.378 1.122 2.5 2.5 2.5h23c1.378 0 2.5-1.122 2.5-2.5v-19.5c0-0.448-0.137-1.23-1.319-2.841zM24.543 5.457c0.959 0.959 1.712 1.825 2.268 2.543h-4.811v-4.811c0.718 0.556 1.584 1.309 2.543 2.268zM28 29.5c0 0.271-0.229 0.5-0.5 0.5h-23c-0.271 0-0.5-0.229-0.5-0.5v-27c0-0.271 0.229-0.5 0.5-0.5 0 0 15.499-0 15.5 0v7c0 0.552 0.448 1 1 1h7v19.5z\"></path>\n",
       "<path d=\"M23 26h-14c-0.552 0-1-0.448-1-1s0.448-1 1-1h14c0.552 0 1 0.448 1 1s-0.448 1-1 1z\"></path>\n",
       "<path d=\"M23 22h-14c-0.552 0-1-0.448-1-1s0.448-1 1-1h14c0.552 0 1 0.448 1 1s-0.448 1-1 1z\"></path>\n",
       "<path d=\"M23 18h-14c-0.552 0-1-0.448-1-1s0.448-1 1-1h14c0.552 0 1 0.448 1 1s-0.448 1-1 1z\"></path>\n",
       "</symbol>\n",
       "</defs>\n",
       "</svg>\n",
       "<style>/* CSS stylesheet for displaying xarray objects in jupyterlab.\n",
       " *\n",
       " */\n",
       "\n",
       ":root {\n",
       "  --xr-font-color0: var(--jp-content-font-color0, rgba(0, 0, 0, 1));\n",
       "  --xr-font-color2: var(--jp-content-font-color2, rgba(0, 0, 0, 0.54));\n",
       "  --xr-font-color3: var(--jp-content-font-color3, rgba(0, 0, 0, 0.38));\n",
       "  --xr-border-color: var(--jp-border-color2, #e0e0e0);\n",
       "  --xr-disabled-color: var(--jp-layout-color3, #bdbdbd);\n",
       "  --xr-background-color: var(--jp-layout-color0, white);\n",
       "  --xr-background-color-row-even: var(--jp-layout-color1, white);\n",
       "  --xr-background-color-row-odd: var(--jp-layout-color2, #eeeeee);\n",
       "}\n",
       "\n",
       "html[theme=dark],\n",
       "body[data-theme=dark],\n",
       "body.vscode-dark {\n",
       "  --xr-font-color0: rgba(255, 255, 255, 1);\n",
       "  --xr-font-color2: rgba(255, 255, 255, 0.54);\n",
       "  --xr-font-color3: rgba(255, 255, 255, 0.38);\n",
       "  --xr-border-color: #1F1F1F;\n",
       "  --xr-disabled-color: #515151;\n",
       "  --xr-background-color: #111111;\n",
       "  --xr-background-color-row-even: #111111;\n",
       "  --xr-background-color-row-odd: #313131;\n",
       "}\n",
       "\n",
       ".xr-wrap {\n",
       "  display: block !important;\n",
       "  min-width: 300px;\n",
       "  max-width: 700px;\n",
       "}\n",
       "\n",
       ".xr-text-repr-fallback {\n",
       "  /* fallback to plain text repr when CSS is not injected (untrusted notebook) */\n",
       "  display: none;\n",
       "}\n",
       "\n",
       ".xr-header {\n",
       "  padding-top: 6px;\n",
       "  padding-bottom: 6px;\n",
       "  margin-bottom: 4px;\n",
       "  border-bottom: solid 1px var(--xr-border-color);\n",
       "}\n",
       "\n",
       ".xr-header > div,\n",
       ".xr-header > ul {\n",
       "  display: inline;\n",
       "  margin-top: 0;\n",
       "  margin-bottom: 0;\n",
       "}\n",
       "\n",
       ".xr-obj-type,\n",
       ".xr-array-name {\n",
       "  margin-left: 2px;\n",
       "  margin-right: 10px;\n",
       "}\n",
       "\n",
       ".xr-obj-type {\n",
       "  color: var(--xr-font-color2);\n",
       "}\n",
       "\n",
       ".xr-sections {\n",
       "  padding-left: 0 !important;\n",
       "  display: grid;\n",
       "  grid-template-columns: 150px auto auto 1fr 20px 20px;\n",
       "}\n",
       "\n",
       ".xr-section-item {\n",
       "  display: contents;\n",
       "}\n",
       "\n",
       ".xr-section-item input {\n",
       "  display: none;\n",
       "}\n",
       "\n",
       ".xr-section-item input + label {\n",
       "  color: var(--xr-disabled-color);\n",
       "}\n",
       "\n",
       ".xr-section-item input:enabled + label {\n",
       "  cursor: pointer;\n",
       "  color: var(--xr-font-color2);\n",
       "}\n",
       "\n",
       ".xr-section-item input:enabled + label:hover {\n",
       "  color: var(--xr-font-color0);\n",
       "}\n",
       "\n",
       ".xr-section-summary {\n",
       "  grid-column: 1;\n",
       "  color: var(--xr-font-color2);\n",
       "  font-weight: 500;\n",
       "}\n",
       "\n",
       ".xr-section-summary > span {\n",
       "  display: inline-block;\n",
       "  padding-left: 0.5em;\n",
       "}\n",
       "\n",
       ".xr-section-summary-in:disabled + label {\n",
       "  color: var(--xr-font-color2);\n",
       "}\n",
       "\n",
       ".xr-section-summary-in + label:before {\n",
       "  display: inline-block;\n",
       "  content: '►';\n",
       "  font-size: 11px;\n",
       "  width: 15px;\n",
       "  text-align: center;\n",
       "}\n",
       "\n",
       ".xr-section-summary-in:disabled + label:before {\n",
       "  color: var(--xr-disabled-color);\n",
       "}\n",
       "\n",
       ".xr-section-summary-in:checked + label:before {\n",
       "  content: '▼';\n",
       "}\n",
       "\n",
       ".xr-section-summary-in:checked + label > span {\n",
       "  display: none;\n",
       "}\n",
       "\n",
       ".xr-section-summary,\n",
       ".xr-section-inline-details {\n",
       "  padding-top: 4px;\n",
       "  padding-bottom: 4px;\n",
       "}\n",
       "\n",
       ".xr-section-inline-details {\n",
       "  grid-column: 2 / -1;\n",
       "}\n",
       "\n",
       ".xr-section-details {\n",
       "  display: none;\n",
       "  grid-column: 1 / -1;\n",
       "  margin-bottom: 5px;\n",
       "}\n",
       "\n",
       ".xr-section-summary-in:checked ~ .xr-section-details {\n",
       "  display: contents;\n",
       "}\n",
       "\n",
       ".xr-array-wrap {\n",
       "  grid-column: 1 / -1;\n",
       "  display: grid;\n",
       "  grid-template-columns: 20px auto;\n",
       "}\n",
       "\n",
       ".xr-array-wrap > label {\n",
       "  grid-column: 1;\n",
       "  vertical-align: top;\n",
       "}\n",
       "\n",
       ".xr-preview {\n",
       "  color: var(--xr-font-color3);\n",
       "}\n",
       "\n",
       ".xr-array-preview,\n",
       ".xr-array-data {\n",
       "  padding: 0 5px !important;\n",
       "  grid-column: 2;\n",
       "}\n",
       "\n",
       ".xr-array-data,\n",
       ".xr-array-in:checked ~ .xr-array-preview {\n",
       "  display: none;\n",
       "}\n",
       "\n",
       ".xr-array-in:checked ~ .xr-array-data,\n",
       ".xr-array-preview {\n",
       "  display: inline-block;\n",
       "}\n",
       "\n",
       ".xr-dim-list {\n",
       "  display: inline-block !important;\n",
       "  list-style: none;\n",
       "  padding: 0 !important;\n",
       "  margin: 0;\n",
       "}\n",
       "\n",
       ".xr-dim-list li {\n",
       "  display: inline-block;\n",
       "  padding: 0;\n",
       "  margin: 0;\n",
       "}\n",
       "\n",
       ".xr-dim-list:before {\n",
       "  content: '(';\n",
       "}\n",
       "\n",
       ".xr-dim-list:after {\n",
       "  content: ')';\n",
       "}\n",
       "\n",
       ".xr-dim-list li:not(:last-child):after {\n",
       "  content: ',';\n",
       "  padding-right: 5px;\n",
       "}\n",
       "\n",
       ".xr-has-index {\n",
       "  font-weight: bold;\n",
       "}\n",
       "\n",
       ".xr-var-list,\n",
       ".xr-var-item {\n",
       "  display: contents;\n",
       "}\n",
       "\n",
       ".xr-var-item > div,\n",
       ".xr-var-item label,\n",
       ".xr-var-item > .xr-var-name span {\n",
       "  background-color: var(--xr-background-color-row-even);\n",
       "  margin-bottom: 0;\n",
       "}\n",
       "\n",
       ".xr-var-item > .xr-var-name:hover span {\n",
       "  padding-right: 5px;\n",
       "}\n",
       "\n",
       ".xr-var-list > li:nth-child(odd) > div,\n",
       ".xr-var-list > li:nth-child(odd) > label,\n",
       ".xr-var-list > li:nth-child(odd) > .xr-var-name span {\n",
       "  background-color: var(--xr-background-color-row-odd);\n",
       "}\n",
       "\n",
       ".xr-var-name {\n",
       "  grid-column: 1;\n",
       "}\n",
       "\n",
       ".xr-var-dims {\n",
       "  grid-column: 2;\n",
       "}\n",
       "\n",
       ".xr-var-dtype {\n",
       "  grid-column: 3;\n",
       "  text-align: right;\n",
       "  color: var(--xr-font-color2);\n",
       "}\n",
       "\n",
       ".xr-var-preview {\n",
       "  grid-column: 4;\n",
       "}\n",
       "\n",
       ".xr-index-preview {\n",
       "  grid-column: 2 / 5;\n",
       "  color: var(--xr-font-color2);\n",
       "}\n",
       "\n",
       ".xr-var-name,\n",
       ".xr-var-dims,\n",
       ".xr-var-dtype,\n",
       ".xr-preview,\n",
       ".xr-attrs dt {\n",
       "  white-space: nowrap;\n",
       "  overflow: hidden;\n",
       "  text-overflow: ellipsis;\n",
       "  padding-right: 10px;\n",
       "}\n",
       "\n",
       ".xr-var-name:hover,\n",
       ".xr-var-dims:hover,\n",
       ".xr-var-dtype:hover,\n",
       ".xr-attrs dt:hover {\n",
       "  overflow: visible;\n",
       "  width: auto;\n",
       "  z-index: 1;\n",
       "}\n",
       "\n",
       ".xr-var-attrs,\n",
       ".xr-var-data,\n",
       ".xr-index-data {\n",
       "  display: none;\n",
       "  background-color: var(--xr-background-color) !important;\n",
       "  padding-bottom: 5px !important;\n",
       "}\n",
       "\n",
       ".xr-var-attrs-in:checked ~ .xr-var-attrs,\n",
       ".xr-var-data-in:checked ~ .xr-var-data,\n",
       ".xr-index-data-in:checked ~ .xr-index-data {\n",
       "  display: block;\n",
       "}\n",
       "\n",
       ".xr-var-data > table {\n",
       "  float: right;\n",
       "}\n",
       "\n",
       ".xr-var-name span,\n",
       ".xr-var-data,\n",
       ".xr-index-name div,\n",
       ".xr-index-data,\n",
       ".xr-attrs {\n",
       "  padding-left: 25px !important;\n",
       "}\n",
       "\n",
       ".xr-attrs,\n",
       ".xr-var-attrs,\n",
       ".xr-var-data,\n",
       ".xr-index-data {\n",
       "  grid-column: 1 / -1;\n",
       "}\n",
       "\n",
       "dl.xr-attrs {\n",
       "  padding: 0;\n",
       "  margin: 0;\n",
       "  display: grid;\n",
       "  grid-template-columns: 125px auto;\n",
       "}\n",
       "\n",
       ".xr-attrs dt,\n",
       ".xr-attrs dd {\n",
       "  padding: 0;\n",
       "  margin: 0;\n",
       "  float: left;\n",
       "  padding-right: 10px;\n",
       "  width: auto;\n",
       "}\n",
       "\n",
       ".xr-attrs dt {\n",
       "  font-weight: normal;\n",
       "  grid-column: 1;\n",
       "}\n",
       "\n",
       ".xr-attrs dt:hover span {\n",
       "  display: inline-block;\n",
       "  background: var(--xr-background-color);\n",
       "  padding-right: 10px;\n",
       "}\n",
       "\n",
       ".xr-attrs dd {\n",
       "  grid-column: 2;\n",
       "  white-space: pre-wrap;\n",
       "  word-break: break-all;\n",
       "}\n",
       "\n",
       ".xr-icon-database,\n",
       ".xr-icon-file-text2,\n",
       ".xr-no-icon {\n",
       "  display: inline-block;\n",
       "  vertical-align: middle;\n",
       "  width: 1em;\n",
       "  height: 1.5em !important;\n",
       "  stroke-width: 0;\n",
       "  stroke: currentColor;\n",
       "  fill: currentColor;\n",
       "}\n",
       "</style><pre class='xr-text-repr-fallback'>&lt;xarray.DataArray (year: 15)&gt; Size: 120B\n",
       "array([4.66647340e+11, 5.45472829e+11, 0.00000000e+00, 5.78179822e+11,\n",
       "       0.00000000e+00, 3.76307206e+11, 0.00000000e+00, 2.61900232e+11,\n",
       "       0.00000000e+00, 2.25585623e+11, 2.05201143e+11, 1.67034370e+11,\n",
       "       1.53310853e+11, 1.36826240e+11, 1.28377224e+11])\n",
       "Coordinates:\n",
       "  * year             (year) int64 120B 2005 2010 2015 2020 ... 2080 2090 2100\n",
       "    impact_category  &lt;U60 240B &#x27;EF v3.1 - climate change - global warming pot...</pre><div class='xr-wrap' style='display:none'><div class='xr-header'><div class='xr-obj-type'>xarray.DataArray</div><div class='xr-array-name'></div><ul class='xr-dim-list'><li><span class='xr-has-index'>year</span>: 15</li></ul></div><ul class='xr-sections'><li class='xr-section-item'><div class='xr-array-wrap'><input id='section-4554cab5-a7bd-4987-a93b-5a2f192fd356' class='xr-array-in' type='checkbox' checked><label for='section-4554cab5-a7bd-4987-a93b-5a2f192fd356' title='Show/hide data repr'><svg class='icon xr-icon-database'><use xlink:href='#icon-database'></use></svg></label><div class='xr-array-preview xr-preview'><span>4.666e+11 5.455e+11 0.0 5.782e+11 ... 1.533e+11 1.368e+11 1.284e+11</span></div><div class='xr-array-data'><pre>array([4.66647340e+11, 5.45472829e+11, 0.00000000e+00, 5.78179822e+11,\n",
       "       0.00000000e+00, 3.76307206e+11, 0.00000000e+00, 2.61900232e+11,\n",
       "       0.00000000e+00, 2.25585623e+11, 2.05201143e+11, 1.67034370e+11,\n",
       "       1.53310853e+11, 1.36826240e+11, 1.28377224e+11])</pre></div></div></li><li class='xr-section-item'><input id='section-e5af2361-6581-49c1-a4bb-87663631a1cc' class='xr-section-summary-in' type='checkbox'  checked><label for='section-e5af2361-6581-49c1-a4bb-87663631a1cc' class='xr-section-summary' >Coordinates: <span>(2)</span></label><div class='xr-section-inline-details'></div><div class='xr-section-details'><ul class='xr-var-list'><li class='xr-var-item'><div class='xr-var-name'><span class='xr-has-index'>year</span></div><div class='xr-var-dims'>(year)</div><div class='xr-var-dtype'>int64</div><div class='xr-var-preview xr-preview'>2005 2010 2015 ... 2080 2090 2100</div><input id='attrs-f4285629-8f8e-4ffd-8c46-b9e766b0df5e' class='xr-var-attrs-in' type='checkbox' disabled><label for='attrs-f4285629-8f8e-4ffd-8c46-b9e766b0df5e' title='Show/Hide attributes'><svg class='icon xr-icon-file-text2'><use xlink:href='#icon-file-text2'></use></svg></label><input id='data-07d8ca5f-9e6e-4ce5-86ce-8a780847cf52' class='xr-var-data-in' type='checkbox'><label for='data-07d8ca5f-9e6e-4ce5-86ce-8a780847cf52' title='Show/Hide data repr'><svg class='icon xr-icon-database'><use xlink:href='#icon-database'></use></svg></label><div class='xr-var-attrs'><dl class='xr-attrs'></dl></div><div class='xr-var-data'><pre>array([2005, 2010, 2015, 2020, 2025, 2030, 2035, 2040, 2045, 2050, 2060, 2070,\n",
       "       2080, 2090, 2100])</pre></div></li><li class='xr-var-item'><div class='xr-var-name'><span>impact_category</span></div><div class='xr-var-dims'>()</div><div class='xr-var-dtype'>&lt;U60</div><div class='xr-var-preview xr-preview'>&#x27;EF v3.1 - climate change - glob...</div><input id='attrs-6ae02a87-945c-4173-9259-b238cd72f38e' class='xr-var-attrs-in' type='checkbox' disabled><label for='attrs-6ae02a87-945c-4173-9259-b238cd72f38e' title='Show/Hide attributes'><svg class='icon xr-icon-file-text2'><use xlink:href='#icon-file-text2'></use></svg></label><input id='data-a9d49087-738e-4a5f-93eb-1901606d80a7' class='xr-var-data-in' type='checkbox'><label for='data-a9d49087-738e-4a5f-93eb-1901606d80a7' title='Show/Hide data repr'><svg class='icon xr-icon-database'><use xlink:href='#icon-database'></use></svg></label><div class='xr-var-attrs'><dl class='xr-attrs'></dl></div><div class='xr-var-data'><pre>array(&#x27;EF v3.1 - climate change - global warming potential (GWP100)&#x27;,\n",
       "      dtype=&#x27;&lt;U60&#x27;)</pre></div></li></ul></div></li><li class='xr-section-item'><input id='section-cf218265-93c3-48be-a34b-e30cab0228ef' class='xr-section-summary-in' type='checkbox'  ><label for='section-cf218265-93c3-48be-a34b-e30cab0228ef' class='xr-section-summary' >Indexes: <span>(1)</span></label><div class='xr-section-inline-details'></div><div class='xr-section-details'><ul class='xr-var-list'><li class='xr-var-item'><div class='xr-index-name'><div>year</div></div><div class='xr-index-preview'>PandasIndex</div><div></div><input id='index-a4996bbf-81ea-4703-a0fe-2ca8da270ed9' class='xr-index-data-in' type='checkbox'/><label for='index-a4996bbf-81ea-4703-a0fe-2ca8da270ed9' title='Show/Hide index repr'><svg class='icon xr-icon-database'><use xlink:href='#icon-database'></use></svg></label><div class='xr-index-data'><pre>PandasIndex(Index([2005, 2010, 2015, 2020, 2025, 2030, 2035, 2040, 2045, 2050, 2060, 2070,\n",
       "       2080, 2090, 2100],\n",
       "      dtype=&#x27;int64&#x27;, name=&#x27;year&#x27;))</pre></div></li></ul></div></li><li class='xr-section-item'><input id='section-d837cc69-859d-4e3e-989b-935f264fb8cb' class='xr-section-summary-in' type='checkbox' disabled ><label for='section-d837cc69-859d-4e3e-989b-935f264fb8cb' class='xr-section-summary'  title='Expand/collapse section'>Attributes: <span>(0)</span></label><div class='xr-section-inline-details'></div><div class='xr-section-details'><dl class='xr-attrs'></dl></div></li></ul></div></div>"
      ],
      "text/plain": [
       "<xarray.DataArray (year: 15)> Size: 120B\n",
       "array([4.66647340e+11, 5.45472829e+11, 0.00000000e+00, 5.78179822e+11,\n",
       "       0.00000000e+00, 3.76307206e+11, 0.00000000e+00, 2.61900232e+11,\n",
       "       0.00000000e+00, 2.25585623e+11, 2.05201143e+11, 1.67034370e+11,\n",
       "       1.53310853e+11, 1.36826240e+11, 1.28377224e+11])\n",
       "Coordinates:\n",
       "  * year             (year) int64 120B 2005 2010 2015 2020 ... 2080 2090 2100\n",
       "    impact_category  <U60 240B 'EF v3.1 - climate change - global warming pot..."
      ]
     },
     "execution_count": 139,
     "metadata": {},
     "output_type": "execute_result"
    }
   ],
   "source": [
    "q.sel(\n",
    "    impact_category='EF v3.1 - climate change - global warming potential (GWP100)',\n",
    "    \n",
    ").sum(dim=[\n",
    "    \"region\",\n",
    "    \"location\",\n",
    "    \"model\",\n",
    "    \"scenario\",\n",
    "    \"variable\"\n",
    "])"
   ]
  },
  {
   "cell_type": "code",
   "execution_count": 164,
   "id": "bf0346e8-fd4e-4ca5-90b4-f562deecfd15",
   "metadata": {},
   "outputs": [
    {
     "data": {
      "text/plain": [
       "['BRA', 'CAN']"
      ]
     },
     "execution_count": 164,
     "metadata": {},
     "output_type": "execute_result"
    }
   ],
   "source": [
    "[r for r in p.scenarios.coords[\"region\"].values if r!=\"World\"]"
   ]
  },
  {
   "cell_type": "code",
   "execution_count": null,
   "id": "7d7bca9c-dd8c-418c-84de-ea2473be14b8",
   "metadata": {},
   "outputs": [],
   "source": []
  }
 ],
 "metadata": {
  "kernelspec": {
   "display_name": "Python 3 (ipykernel)",
   "language": "python",
   "name": "python3"
  },
  "language_info": {
   "codemirror_mode": {
    "name": "ipython",
    "version": 3
   },
   "file_extension": ".py",
   "mimetype": "text/x-python",
   "name": "python",
   "nbconvert_exporter": "python",
   "pygments_lexer": "ipython3",
   "version": "3.11.9"
  }
 },
 "nbformat": 4,
 "nbformat_minor": 5
}
